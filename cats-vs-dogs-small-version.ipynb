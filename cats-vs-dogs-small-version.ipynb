{
 "cells": [
  {
   "cell_type": "code",
   "execution_count": 1,
   "id": "7af1bd33",
   "metadata": {
    "execution": {
     "iopub.execute_input": "2024-01-18T13:58:10.994234Z",
     "iopub.status.busy": "2024-01-18T13:58:10.993778Z",
     "iopub.status.idle": "2024-01-18T13:58:26.412343Z",
     "shell.execute_reply": "2024-01-18T13:58:26.411500Z"
    },
    "papermill": {
     "duration": 15.43482,
     "end_time": "2024-01-18T13:58:26.414741",
     "exception": false,
     "start_time": "2024-01-18T13:58:10.979921",
     "status": "completed"
    },
    "tags": []
   },
   "outputs": [],
   "source": [
    "import warnings\n",
    "import os, shutil\n",
    "import numpy as np\n",
    "import pandas as pd\n",
    "import matplotlib.pyplot as plt\n",
    "plt.style.use('seaborn-v0_8-bright')\n",
    "warnings.filterwarnings('ignore')\n",
    "\n",
    "from tensorflow import keras\n",
    "from tensorflow.keras import layers, models\n",
    "from tensorflow.keras.applications import VGG16\n",
    "from tensorflow.keras.preprocessing.image import ImageDataGenerator\n",
    "from tensorflow.keras import optimizers"
   ]
  },
  {
   "cell_type": "code",
   "execution_count": 2,
   "id": "2ad48aba",
   "metadata": {
    "execution": {
     "iopub.execute_input": "2024-01-18T13:58:26.511316Z",
     "iopub.status.busy": "2024-01-18T13:58:26.510143Z",
     "iopub.status.idle": "2024-01-18T13:58:26.514907Z",
     "shell.execute_reply": "2024-01-18T13:58:26.514067Z"
    },
    "papermill": {
     "duration": 0.019706,
     "end_time": "2024-01-18T13:58:26.517102",
     "exception": false,
     "start_time": "2024-01-18T13:58:26.497396",
     "status": "completed"
    },
    "tags": []
   },
   "outputs": [],
   "source": [
    "# Original dataset path\n",
    "# origial_dataset_dir = '/home/nima/DataSets/Dogs_VS_Cats/train'\n",
    "origial_dataset_dir = '/kaggle/input/dogs-vs-cats/train/train'\n",
    "# directory to copy data into it\n",
    "# base_dir = '/home/nima/MY_JUPYTER/Train/Deep/Dogs-VS-Cats'\n",
    "base_dir = '/kaggle/working/'"
   ]
  },
  {
   "cell_type": "code",
   "execution_count": 3,
   "id": "52ff7db0",
   "metadata": {
    "execution": {
     "iopub.execute_input": "2024-01-18T13:58:26.541736Z",
     "iopub.status.busy": "2024-01-18T13:58:26.540993Z",
     "iopub.status.idle": "2024-01-18T13:58:26.546459Z",
     "shell.execute_reply": "2024-01-18T13:58:26.545591Z"
    },
    "papermill": {
     "duration": 0.0196,
     "end_time": "2024-01-18T13:58:26.548322",
     "exception": false,
     "start_time": "2024-01-18T13:58:26.528722",
     "status": "completed"
    },
    "tags": []
   },
   "outputs": [],
   "source": [
    "# Create train, validation and test folder\n",
    "train_dir = os.path.join(base_dir, 'train')\n",
    "validation_dir = os.path.join(base_dir, 'validation')\n",
    "test_dir = os.path.join(base_dir, 'test')\n",
    "\n",
    "# Create folders\n",
    "os.mkdir(train_dir)\n",
    "os.mkdir(validation_dir)\n",
    "os.mkdir(test_dir)"
   ]
  },
  {
   "cell_type": "code",
   "execution_count": 4,
   "id": "d601d4bd",
   "metadata": {
    "execution": {
     "iopub.execute_input": "2024-01-18T13:58:26.572372Z",
     "iopub.status.busy": "2024-01-18T13:58:26.572112Z",
     "iopub.status.idle": "2024-01-18T13:58:26.579414Z",
     "shell.execute_reply": "2024-01-18T13:58:26.578303Z"
    },
    "papermill": {
     "duration": 0.022643,
     "end_time": "2024-01-18T13:58:26.582363",
     "exception": false,
     "start_time": "2024-01-18T13:58:26.559720",
     "status": "completed"
    },
    "tags": []
   },
   "outputs": [],
   "source": [
    "# Createt cats and dogs folder in each recent folders\n",
    "train_cats_dir = os.path.join(train_dir, 'cats')\n",
    "train_dogs_dir = os.path.join(train_dir, 'dogs')\n",
    "os.mkdir(train_cats_dir)\n",
    "os.mkdir(train_dogs_dir)\n",
    "\n",
    "validation_cats_dir = os.path.join(validation_dir, 'cats')\n",
    "validation_dogs_dir = os.path.join(validation_dir, 'dogs')\n",
    "os.mkdir(validation_cats_dir)\n",
    "os.mkdir(validation_dogs_dir)\n",
    "\n",
    "test_cats_dir = os.path.join(test_dir, 'cats')\n",
    "test_dogs_dir = os.path.join(test_dir, 'dogs')\n",
    "os.mkdir(test_cats_dir)\n",
    "os.mkdir(test_dogs_dir)"
   ]
  },
  {
   "cell_type": "markdown",
   "id": "dea02c21",
   "metadata": {
    "papermill": {
     "duration": 0.011238,
     "end_time": "2024-01-18T13:58:26.628151",
     "exception": false,
     "start_time": "2024-01-18T13:58:26.616913",
     "status": "completed"
    },
    "tags": []
   },
   "source": [
    "2000 train ----------> 1000 cats + 1000 dogs  \n",
    "1000 validation -----> 500 cats + 500 dogs  \n",
    "1000 test -----------> 500 cats + 500 dogs  "
   ]
  },
  {
   "cell_type": "markdown",
   "id": "ab3260a7",
   "metadata": {
    "papermill": {
     "duration": 0.011202,
     "end_time": "2024-01-18T13:58:26.650860",
     "exception": false,
     "start_time": "2024-01-18T13:58:26.639658",
     "status": "completed"
    },
    "tags": []
   },
   "source": [
    "#### Copy cats image"
   ]
  },
  {
   "cell_type": "code",
   "execution_count": 5,
   "id": "547bdd4a",
   "metadata": {
    "execution": {
     "iopub.execute_input": "2024-01-18T13:58:26.675605Z",
     "iopub.status.busy": "2024-01-18T13:58:26.674901Z",
     "iopub.status.idle": "2024-01-18T13:58:47.182986Z",
     "shell.execute_reply": "2024-01-18T13:58:47.182176Z"
    },
    "papermill": {
     "duration": 20.523195,
     "end_time": "2024-01-18T13:58:47.185451",
     "exception": false,
     "start_time": "2024-01-18T13:58:26.662256",
     "status": "completed"
    },
    "tags": []
   },
   "outputs": [],
   "source": [
    "# Copy 1000 cats image to train/cats\n",
    "fnames = ['cat.{}.jpg'.format(i) for i in range(1000)]\n",
    "for fname in fnames :\n",
    "    src = os.path.join(origial_dataset_dir, fname)\n",
    "    dts = os.path.join(train_cats_dir, fname)\n",
    "    shutil.copyfile(src, dts)\n",
    "\n",
    "# Copy 500 cats image to validatinon/cats\n",
    "fnames = ['cat.{}.jpg'.format(i) for i in range(1000, 1500)]\n",
    "for fname in fnames :\n",
    "    src = os.path.join(origial_dataset_dir, fname)\n",
    "    dts = os.path.join(validation_cats_dir, fname)\n",
    "    shutil.copyfile(src, dts)\n",
    "\n",
    "# Copy 500 cats image to test/cats\n",
    "fnames = ['cat.{}.jpg'.format(i) for i in range(1500, 2000)]\n",
    "for fname in fnames :\n",
    "    src = os.path.join(origial_dataset_dir, fname)\n",
    "    dts = os.path.join(test_cats_dir, fname)\n",
    "    shutil.copyfile(src, dts)"
   ]
  },
  {
   "cell_type": "markdown",
   "id": "1f6ea711",
   "metadata": {
    "papermill": {
     "duration": 0.011571,
     "end_time": "2024-01-18T13:58:47.209207",
     "exception": false,
     "start_time": "2024-01-18T13:58:47.197636",
     "status": "completed"
    },
    "tags": []
   },
   "source": [
    "#### Copy dogs image"
   ]
  },
  {
   "cell_type": "code",
   "execution_count": 6,
   "id": "253b8026",
   "metadata": {
    "execution": {
     "iopub.execute_input": "2024-01-18T13:58:47.233448Z",
     "iopub.status.busy": "2024-01-18T13:58:47.233149Z",
     "iopub.status.idle": "2024-01-18T13:59:06.287795Z",
     "shell.execute_reply": "2024-01-18T13:59:06.286902Z"
    },
    "papermill": {
     "duration": 19.069565,
     "end_time": "2024-01-18T13:59:06.290244",
     "exception": false,
     "start_time": "2024-01-18T13:58:47.220679",
     "status": "completed"
    },
    "tags": []
   },
   "outputs": [],
   "source": [
    "# Copy 1000 dogs image to train/cats\n",
    "fnames = ['dog.{}.jpg'.format(i) for i in range(1000)]\n",
    "for fname in fnames :\n",
    "    src = os.path.join(origial_dataset_dir, fname)\n",
    "    dts = os.path.join(train_dogs_dir, fname)\n",
    "    shutil.copyfile(src, dts)\n",
    "\n",
    "# Copy 500 dogs image to validatinon/cats\n",
    "fnames = ['dog.{}.jpg'.format(i) for i in range(1000, 1500)]\n",
    "for fname in fnames :\n",
    "    src = os.path.join(origial_dataset_dir, fname)\n",
    "    dts = os.path.join(validation_dogs_dir, fname)\n",
    "    shutil.copyfile(src, dts)\n",
    "\n",
    "# Copy 500 dogs image to test/cats\n",
    "fnames = ['dog.{}.jpg'.format(i) for i in range(1500, 2000)]\n",
    "for fname in fnames :\n",
    "    src = os.path.join(origial_dataset_dir, fname)\n",
    "    dts = os.path.join(test_dogs_dir, fname)\n",
    "    shutil.copyfile(src, dts)"
   ]
  },
  {
   "cell_type": "code",
   "execution_count": 7,
   "id": "b9416408",
   "metadata": {
    "execution": {
     "iopub.execute_input": "2024-01-18T13:59:06.317039Z",
     "iopub.status.busy": "2024-01-18T13:59:06.316400Z",
     "iopub.status.idle": "2024-01-18T13:59:06.326102Z",
     "shell.execute_reply": "2024-01-18T13:59:06.325071Z"
    },
    "papermill": {
     "duration": 0.025452,
     "end_time": "2024-01-18T13:59:06.328429",
     "exception": false,
     "start_time": "2024-01-18T13:59:06.302977",
     "status": "completed"
    },
    "tags": []
   },
   "outputs": [
    {
     "name": "stdout",
     "output_type": "stream",
     "text": [
      "Total training cat images :  1000\n",
      "Total validation cat images :  500\n",
      "Total test cat images :  500\n",
      "_____________________________________________\n",
      "Total training dog images :  1000\n",
      "Total validation dog images :  500\n",
      "Total test dog images :  500\n"
     ]
    }
   ],
   "source": [
    "# Counts number of images in each folder\n",
    "print('Total training cat images : ', len(os.listdir(train_cats_dir)))\n",
    "print('Total validation cat images : ', len(os.listdir(validation_cats_dir)))\n",
    "print('Total test cat images : ', len(os.listdir(test_cats_dir)))\n",
    "print('_' * 45)\n",
    "print('Total training dog images : ', len(os.listdir(train_dogs_dir)))\n",
    "print('Total validation dog images : ', len(os.listdir(validation_dogs_dir)))\n",
    "print('Total test dog images : ', len(os.listdir(test_dogs_dir)))"
   ]
  },
  {
   "cell_type": "code",
   "execution_count": 8,
   "id": "cb0c43b3",
   "metadata": {
    "execution": {
     "iopub.execute_input": "2024-01-18T13:59:06.382915Z",
     "iopub.status.busy": "2024-01-18T13:59:06.382000Z",
     "iopub.status.idle": "2024-01-18T13:59:09.907221Z",
     "shell.execute_reply": "2024-01-18T13:59:09.906402Z"
    },
    "papermill": {
     "duration": 3.541796,
     "end_time": "2024-01-18T13:59:09.909597",
     "exception": false,
     "start_time": "2024-01-18T13:59:06.367801",
     "status": "completed"
    },
    "tags": []
   },
   "outputs": [
    {
     "name": "stdout",
     "output_type": "stream",
     "text": [
      "Downloading data from https://storage.googleapis.com/tensorflow/keras-applications/vgg16/vgg16_weights_tf_dim_ordering_tf_kernels_notop.h5\n",
      "58889256/58889256 [==============================] - 2s 0us/step\n"
     ]
    }
   ],
   "source": [
    "conv_base = VGG16(\n",
    "    weights='imagenet',\n",
    "    include_top=False,\n",
    "    input_shape=(150, 150, 3)\n",
    ")"
   ]
  },
  {
   "cell_type": "code",
   "execution_count": 9,
   "id": "fe5904a7",
   "metadata": {
    "execution": {
     "iopub.execute_input": "2024-01-18T13:59:09.970838Z",
     "iopub.status.busy": "2024-01-18T13:59:09.970252Z",
     "iopub.status.idle": "2024-01-18T13:59:35.873533Z",
     "shell.execute_reply": "2024-01-18T13:59:35.872747Z"
    },
    "papermill": {
     "duration": 25.920962,
     "end_time": "2024-01-18T13:59:35.875472",
     "exception": false,
     "start_time": "2024-01-18T13:59:09.954510",
     "status": "completed"
    },
    "tags": []
   },
   "outputs": [
    {
     "name": "stdout",
     "output_type": "stream",
     "text": [
      "Found 2000 images belonging to 2 classes.\n",
      "1/1 [==============================] - 2s 2s/step\n",
      "1/1 [==============================] - 0s 26ms/step\n",
      "1/1 [==============================] - 0s 24ms/step\n",
      "1/1 [==============================] - 0s 26ms/step\n",
      "1/1 [==============================] - 0s 23ms/step\n",
      "1/1 [==============================] - 0s 26ms/step\n",
      "1/1 [==============================] - 0s 26ms/step\n",
      "1/1 [==============================] - 0s 24ms/step\n",
      "1/1 [==============================] - 0s 26ms/step\n",
      "1/1 [==============================] - 0s 27ms/step\n",
      "1/1 [==============================] - 0s 28ms/step\n",
      "1/1 [==============================] - 0s 34ms/step\n",
      "1/1 [==============================] - 0s 23ms/step\n",
      "1/1 [==============================] - 0s 23ms/step\n",
      "1/1 [==============================] - 0s 22ms/step\n",
      "1/1 [==============================] - 0s 24ms/step\n",
      "1/1 [==============================] - 0s 24ms/step\n",
      "1/1 [==============================] - 0s 21ms/step\n",
      "1/1 [==============================] - 0s 20ms/step\n",
      "1/1 [==============================] - 0s 21ms/step\n",
      "1/1 [==============================] - 0s 21ms/step\n",
      "1/1 [==============================] - 0s 21ms/step\n",
      "1/1 [==============================] - 0s 24ms/step\n",
      "1/1 [==============================] - 0s 22ms/step\n",
      "1/1 [==============================] - 0s 21ms/step\n",
      "1/1 [==============================] - 0s 21ms/step\n",
      "1/1 [==============================] - 0s 21ms/step\n",
      "1/1 [==============================] - 0s 21ms/step\n",
      "1/1 [==============================] - 0s 22ms/step\n",
      "1/1 [==============================] - 0s 23ms/step\n",
      "1/1 [==============================] - 0s 25ms/step\n",
      "1/1 [==============================] - 0s 25ms/step\n",
      "1/1 [==============================] - 0s 24ms/step\n",
      "1/1 [==============================] - 0s 22ms/step\n",
      "1/1 [==============================] - 0s 24ms/step\n",
      "1/1 [==============================] - 0s 21ms/step\n",
      "1/1 [==============================] - 0s 22ms/step\n",
      "1/1 [==============================] - 0s 21ms/step\n",
      "1/1 [==============================] - 0s 22ms/step\n",
      "1/1 [==============================] - 0s 23ms/step\n",
      "1/1 [==============================] - 0s 22ms/step\n",
      "1/1 [==============================] - 0s 21ms/step\n",
      "1/1 [==============================] - 0s 22ms/step\n",
      "1/1 [==============================] - 0s 21ms/step\n",
      "1/1 [==============================] - 0s 23ms/step\n",
      "1/1 [==============================] - 0s 22ms/step\n",
      "1/1 [==============================] - 0s 23ms/step\n",
      "1/1 [==============================] - 0s 23ms/step\n",
      "1/1 [==============================] - 0s 22ms/step\n",
      "1/1 [==============================] - 0s 23ms/step\n",
      "1/1 [==============================] - 0s 22ms/step\n",
      "1/1 [==============================] - 0s 22ms/step\n",
      "1/1 [==============================] - 0s 21ms/step\n",
      "1/1 [==============================] - 0s 21ms/step\n",
      "1/1 [==============================] - 0s 23ms/step\n",
      "1/1 [==============================] - 0s 24ms/step\n",
      "1/1 [==============================] - 0s 25ms/step\n",
      "1/1 [==============================] - 0s 23ms/step\n",
      "1/1 [==============================] - 0s 23ms/step\n",
      "1/1 [==============================] - 0s 23ms/step\n",
      "1/1 [==============================] - 0s 23ms/step\n",
      "1/1 [==============================] - 0s 23ms/step\n",
      "1/1 [==============================] - 0s 23ms/step\n",
      "1/1 [==============================] - 0s 25ms/step\n",
      "1/1 [==============================] - 0s 24ms/step\n",
      "1/1 [==============================] - 0s 23ms/step\n",
      "1/1 [==============================] - 0s 23ms/step\n",
      "1/1 [==============================] - 0s 24ms/step\n",
      "1/1 [==============================] - 0s 23ms/step\n",
      "1/1 [==============================] - 0s 23ms/step\n",
      "1/1 [==============================] - 0s 23ms/step\n",
      "1/1 [==============================] - 0s 24ms/step\n",
      "1/1 [==============================] - 0s 22ms/step\n",
      "1/1 [==============================] - 0s 24ms/step\n",
      "1/1 [==============================] - 0s 21ms/step\n",
      "1/1 [==============================] - 0s 22ms/step\n",
      "1/1 [==============================] - 0s 23ms/step\n",
      "1/1 [==============================] - 0s 21ms/step\n",
      "1/1 [==============================] - 0s 21ms/step\n",
      "1/1 [==============================] - 0s 22ms/step\n",
      "1/1 [==============================] - 0s 23ms/step\n",
      "1/1 [==============================] - 0s 21ms/step\n",
      "1/1 [==============================] - 0s 20ms/step\n",
      "1/1 [==============================] - 0s 21ms/step\n",
      "1/1 [==============================] - 0s 20ms/step\n",
      "1/1 [==============================] - 0s 20ms/step\n",
      "1/1 [==============================] - 0s 21ms/step\n",
      "1/1 [==============================] - 0s 20ms/step\n",
      "1/1 [==============================] - 0s 21ms/step\n",
      "1/1 [==============================] - 0s 22ms/step\n",
      "1/1 [==============================] - 0s 21ms/step\n",
      "1/1 [==============================] - 0s 21ms/step\n",
      "1/1 [==============================] - 0s 21ms/step\n",
      "1/1 [==============================] - 0s 21ms/step\n",
      "1/1 [==============================] - 0s 21ms/step\n",
      "1/1 [==============================] - 0s 21ms/step\n",
      "1/1 [==============================] - 0s 21ms/step\n",
      "1/1 [==============================] - 0s 21ms/step\n",
      "1/1 [==============================] - 0s 21ms/step\n",
      "1/1 [==============================] - 0s 20ms/step\n",
      "Found 1000 images belonging to 2 classes.\n",
      "1/1 [==============================] - 0s 22ms/step\n",
      "1/1 [==============================] - 0s 22ms/step\n",
      "1/1 [==============================] - 0s 21ms/step\n",
      "1/1 [==============================] - 0s 23ms/step\n",
      "1/1 [==============================] - 0s 22ms/step\n",
      "1/1 [==============================] - 0s 21ms/step\n",
      "1/1 [==============================] - 0s 22ms/step\n",
      "1/1 [==============================] - 0s 25ms/step\n",
      "1/1 [==============================] - 0s 23ms/step\n",
      "1/1 [==============================] - 0s 22ms/step\n",
      "1/1 [==============================] - 0s 22ms/step\n",
      "1/1 [==============================] - 0s 22ms/step\n",
      "1/1 [==============================] - 0s 24ms/step\n",
      "1/1 [==============================] - 0s 27ms/step\n",
      "1/1 [==============================] - 0s 23ms/step\n",
      "1/1 [==============================] - 0s 27ms/step\n",
      "1/1 [==============================] - 0s 22ms/step\n",
      "1/1 [==============================] - 0s 23ms/step\n",
      "1/1 [==============================] - 0s 23ms/step\n",
      "1/1 [==============================] - 0s 23ms/step\n",
      "1/1 [==============================] - 0s 23ms/step\n",
      "1/1 [==============================] - 0s 23ms/step\n",
      "1/1 [==============================] - 0s 23ms/step\n",
      "1/1 [==============================] - 0s 24ms/step\n",
      "1/1 [==============================] - 0s 23ms/step\n",
      "1/1 [==============================] - 0s 23ms/step\n",
      "1/1 [==============================] - 0s 22ms/step\n",
      "1/1 [==============================] - 0s 23ms/step\n",
      "1/1 [==============================] - 0s 23ms/step\n",
      "1/1 [==============================] - 0s 23ms/step\n",
      "1/1 [==============================] - 0s 21ms/step\n",
      "1/1 [==============================] - 0s 20ms/step\n",
      "1/1 [==============================] - 0s 24ms/step\n",
      "1/1 [==============================] - 0s 21ms/step\n",
      "1/1 [==============================] - 0s 24ms/step\n",
      "1/1 [==============================] - 0s 22ms/step\n",
      "1/1 [==============================] - 0s 22ms/step\n",
      "1/1 [==============================] - 0s 23ms/step\n",
      "1/1 [==============================] - 0s 22ms/step\n",
      "1/1 [==============================] - 0s 21ms/step\n",
      "1/1 [==============================] - 0s 23ms/step\n",
      "1/1 [==============================] - 0s 20ms/step\n",
      "1/1 [==============================] - 0s 21ms/step\n",
      "1/1 [==============================] - 0s 22ms/step\n",
      "1/1 [==============================] - 0s 21ms/step\n",
      "1/1 [==============================] - 0s 21ms/step\n",
      "1/1 [==============================] - 0s 20ms/step\n",
      "1/1 [==============================] - 0s 20ms/step\n",
      "1/1 [==============================] - 0s 21ms/step\n",
      "1/1 [==============================] - 0s 21ms/step\n",
      "Found 1000 images belonging to 2 classes.\n",
      "1/1 [==============================] - 0s 21ms/step\n",
      "1/1 [==============================] - 0s 22ms/step\n",
      "1/1 [==============================] - 0s 21ms/step\n",
      "1/1 [==============================] - 0s 21ms/step\n",
      "1/1 [==============================] - 0s 21ms/step\n",
      "1/1 [==============================] - 0s 21ms/step\n",
      "1/1 [==============================] - 0s 21ms/step\n",
      "1/1 [==============================] - 0s 21ms/step\n",
      "1/1 [==============================] - 0s 21ms/step\n",
      "1/1 [==============================] - 0s 22ms/step\n",
      "1/1 [==============================] - 0s 21ms/step\n",
      "1/1 [==============================] - 0s 22ms/step\n",
      "1/1 [==============================] - 0s 22ms/step\n",
      "1/1 [==============================] - 0s 22ms/step\n",
      "1/1 [==============================] - 0s 22ms/step\n",
      "1/1 [==============================] - 0s 23ms/step\n",
      "1/1 [==============================] - 0s 21ms/step\n",
      "1/1 [==============================] - 0s 22ms/step\n",
      "1/1 [==============================] - 0s 22ms/step\n",
      "1/1 [==============================] - 0s 22ms/step\n",
      "1/1 [==============================] - 0s 21ms/step\n",
      "1/1 [==============================] - 0s 20ms/step\n",
      "1/1 [==============================] - 0s 21ms/step\n",
      "1/1 [==============================] - 0s 23ms/step\n",
      "1/1 [==============================] - 0s 23ms/step\n",
      "1/1 [==============================] - 0s 24ms/step\n",
      "1/1 [==============================] - 0s 24ms/step\n",
      "1/1 [==============================] - 0s 23ms/step\n",
      "1/1 [==============================] - 0s 23ms/step\n",
      "1/1 [==============================] - 0s 23ms/step\n",
      "1/1 [==============================] - 0s 23ms/step\n",
      "1/1 [==============================] - 0s 23ms/step\n",
      "1/1 [==============================] - 0s 24ms/step\n",
      "1/1 [==============================] - 0s 23ms/step\n",
      "1/1 [==============================] - 0s 24ms/step\n",
      "1/1 [==============================] - 0s 24ms/step\n",
      "1/1 [==============================] - 0s 24ms/step\n",
      "1/1 [==============================] - 0s 23ms/step\n",
      "1/1 [==============================] - 0s 23ms/step\n",
      "1/1 [==============================] - 0s 23ms/step\n",
      "1/1 [==============================] - 0s 22ms/step\n",
      "1/1 [==============================] - 0s 22ms/step\n",
      "1/1 [==============================] - 0s 22ms/step\n",
      "1/1 [==============================] - 0s 20ms/step\n",
      "1/1 [==============================] - 0s 21ms/step\n",
      "1/1 [==============================] - 0s 20ms/step\n",
      "1/1 [==============================] - 0s 20ms/step\n",
      "1/1 [==============================] - 0s 25ms/step\n",
      "1/1 [==============================] - 0s 21ms/step\n",
      "1/1 [==============================] - 0s 23ms/step\n"
     ]
    }
   ],
   "source": [
    "datagen = ImageDataGenerator(rescale=1.0/255)\n",
    "batch_size = 20\n",
    "\n",
    "def extract_features(directory, sample_count) :\n",
    "    features = np.zeros(shape=(sample_count, 4, 4, 512))\n",
    "    labels = np.zeros(shape=(sample_count))\n",
    "    generator = datagen.flow_from_directory(\n",
    "        directory, \n",
    "        target_size=(150, 150), \n",
    "        batch_size=batch_size, \n",
    "        class_mode='binary'\n",
    "    )\n",
    "    i=0\n",
    "    for input_batch, label_batch in generator :\n",
    "        features_batch = conv_base.predict(input_batch)\n",
    "        features[i*batch_size : (i+1)*batch_size] = features_batch\n",
    "        labels[i*batch_size : (i+1)*batch_size] = label_batch\n",
    "        i += 1\n",
    "        if i * batch_size >= sample_count :\n",
    "            break\n",
    "    return features, labels\n",
    "\n",
    "train_features, train_labels = extract_features(train_dir, 2000)\n",
    "validation_features, validation_labels = extract_features(validation_dir, 1000)\n",
    "test_features, test_labels = extract_features(test_dir, 1000)"
   ]
  },
  {
   "cell_type": "code",
   "execution_count": 10,
   "id": "f59e755f",
   "metadata": {
    "execution": {
     "iopub.execute_input": "2024-01-18T13:59:35.970720Z",
     "iopub.status.busy": "2024-01-18T13:59:35.970429Z",
     "iopub.status.idle": "2024-01-18T13:59:35.975444Z",
     "shell.execute_reply": "2024-01-18T13:59:35.974553Z"
    },
    "papermill": {
     "duration": 0.054442,
     "end_time": "2024-01-18T13:59:35.977550",
     "exception": false,
     "start_time": "2024-01-18T13:59:35.923108",
     "status": "completed"
    },
    "tags": []
   },
   "outputs": [
    {
     "name": "stdout",
     "output_type": "stream",
     "text": [
      "train shape before :       (2000, 4, 4, 512)\n",
      "validation shape before :  (1000, 4, 4, 512)\n",
      "test shape before :        (1000, 4, 4, 512)\n"
     ]
    }
   ],
   "source": [
    "print('train shape before :      ', train_features.shape)\n",
    "print('validation shape before : ', validation_features.shape)\n",
    "print('test shape before :       ', test_features.shape)"
   ]
  },
  {
   "cell_type": "code",
   "execution_count": 11,
   "id": "0e6d5f0d",
   "metadata": {
    "execution": {
     "iopub.execute_input": "2024-01-18T13:59:36.071616Z",
     "iopub.status.busy": "2024-01-18T13:59:36.070799Z",
     "iopub.status.idle": "2024-01-18T13:59:36.075884Z",
     "shell.execute_reply": "2024-01-18T13:59:36.075117Z"
    },
    "papermill": {
     "duration": 0.053581,
     "end_time": "2024-01-18T13:59:36.077753",
     "exception": false,
     "start_time": "2024-01-18T13:59:36.024172",
     "status": "completed"
    },
    "tags": []
   },
   "outputs": [],
   "source": [
    "train_features = np.reshape(train_features, (2000, 4*4*512))\n",
    "validation_features = np.reshape(validation_features, (1000, 4*4*512))\n",
    "test_features = np.reshape(test_features, (1000, 4*4*512))"
   ]
  },
  {
   "cell_type": "code",
   "execution_count": 12,
   "id": "fed1059d",
   "metadata": {
    "execution": {
     "iopub.execute_input": "2024-01-18T13:59:36.171329Z",
     "iopub.status.busy": "2024-01-18T13:59:36.170635Z",
     "iopub.status.idle": "2024-01-18T13:59:36.175388Z",
     "shell.execute_reply": "2024-01-18T13:59:36.174556Z"
    },
    "papermill": {
     "duration": 0.054385,
     "end_time": "2024-01-18T13:59:36.177949",
     "exception": false,
     "start_time": "2024-01-18T13:59:36.123564",
     "status": "completed"
    },
    "tags": []
   },
   "outputs": [
    {
     "name": "stdout",
     "output_type": "stream",
     "text": [
      "train shape after :       (2000, 8192)\n",
      "validation shape after :  (1000, 8192)\n",
      "test shape after :        (1000, 8192)\n"
     ]
    }
   ],
   "source": [
    "print('train shape after :      ', train_features.shape)\n",
    "print('validation shape after : ', validation_features.shape)\n",
    "print('test shape after :       ', test_features.shape)"
   ]
  },
  {
   "cell_type": "code",
   "execution_count": 13,
   "id": "8827fe22",
   "metadata": {
    "execution": {
     "iopub.execute_input": "2024-01-18T13:59:36.272846Z",
     "iopub.status.busy": "2024-01-18T13:59:36.271503Z",
     "iopub.status.idle": "2024-01-18T13:59:57.524699Z",
     "shell.execute_reply": "2024-01-18T13:59:57.523588Z"
    },
    "papermill": {
     "duration": 21.303099,
     "end_time": "2024-01-18T13:59:57.527189",
     "exception": false,
     "start_time": "2024-01-18T13:59:36.224090",
     "status": "completed"
    },
    "tags": []
   },
   "outputs": [
    {
     "name": "stdout",
     "output_type": "stream",
     "text": [
      "Epoch 1/30\n",
      "100/100 [==============================] - 2s 6ms/step - loss: 0.6525 - acc: 0.6500 - val_loss: 0.5105 - val_acc: 0.7440\n",
      "Epoch 2/30\n",
      "100/100 [==============================] - 0s 4ms/step - loss: 0.4985 - acc: 0.7565 - val_loss: 0.4500 - val_acc: 0.7920\n",
      "Epoch 3/30\n",
      "100/100 [==============================] - 0s 3ms/step - loss: 0.4127 - acc: 0.8090 - val_loss: 0.4172 - val_acc: 0.8100\n",
      "Epoch 4/30\n",
      "100/100 [==============================] - 0s 3ms/step - loss: 0.3680 - acc: 0.8310 - val_loss: 0.4308 - val_acc: 0.8020\n",
      "Epoch 5/30\n",
      "100/100 [==============================] - 0s 4ms/step - loss: 0.3323 - acc: 0.8490 - val_loss: 0.4069 - val_acc: 0.8160\n",
      "Epoch 6/30\n",
      "100/100 [==============================] - 0s 4ms/step - loss: 0.3056 - acc: 0.8685 - val_loss: 0.4308 - val_acc: 0.8070\n",
      "Epoch 7/30\n",
      "100/100 [==============================] - 0s 4ms/step - loss: 0.2840 - acc: 0.8795 - val_loss: 0.3990 - val_acc: 0.8180\n",
      "Epoch 8/30\n",
      "100/100 [==============================] - 0s 4ms/step - loss: 0.2598 - acc: 0.8955 - val_loss: 0.3951 - val_acc: 0.8250\n",
      "Epoch 9/30\n",
      "100/100 [==============================] - 0s 4ms/step - loss: 0.2469 - acc: 0.9045 - val_loss: 0.3948 - val_acc: 0.8260\n",
      "Epoch 10/30\n",
      "100/100 [==============================] - 0s 3ms/step - loss: 0.2197 - acc: 0.9210 - val_loss: 0.3935 - val_acc: 0.8240\n",
      "Epoch 11/30\n",
      "100/100 [==============================] - 0s 3ms/step - loss: 0.2053 - acc: 0.9285 - val_loss: 0.3921 - val_acc: 0.8320\n",
      "Epoch 12/30\n",
      "100/100 [==============================] - 0s 3ms/step - loss: 0.1825 - acc: 0.9375 - val_loss: 0.3952 - val_acc: 0.8280\n",
      "Epoch 13/30\n",
      "100/100 [==============================] - 0s 3ms/step - loss: 0.1689 - acc: 0.9410 - val_loss: 0.3960 - val_acc: 0.8270\n",
      "Epoch 14/30\n",
      "100/100 [==============================] - 0s 3ms/step - loss: 0.1664 - acc: 0.9430 - val_loss: 0.4033 - val_acc: 0.8230\n",
      "Epoch 15/30\n",
      "100/100 [==============================] - 0s 3ms/step - loss: 0.1493 - acc: 0.9525 - val_loss: 0.3997 - val_acc: 0.8290\n",
      "Epoch 16/30\n",
      "100/100 [==============================] - 0s 3ms/step - loss: 0.1475 - acc: 0.9520 - val_loss: 0.4011 - val_acc: 0.8330\n",
      "Epoch 17/30\n",
      "100/100 [==============================] - 0s 3ms/step - loss: 0.1342 - acc: 0.9570 - val_loss: 0.4028 - val_acc: 0.8280\n",
      "Epoch 18/30\n",
      "100/100 [==============================] - 0s 3ms/step - loss: 0.1274 - acc: 0.9620 - val_loss: 0.4068 - val_acc: 0.8260\n",
      "Epoch 19/30\n",
      "100/100 [==============================] - 0s 4ms/step - loss: 0.1144 - acc: 0.9675 - val_loss: 0.4040 - val_acc: 0.8310\n",
      "Epoch 20/30\n",
      "100/100 [==============================] - 0s 4ms/step - loss: 0.1080 - acc: 0.9745 - val_loss: 0.4072 - val_acc: 0.8260\n",
      "Epoch 21/30\n",
      "100/100 [==============================] - 0s 4ms/step - loss: 0.1040 - acc: 0.9705 - val_loss: 0.4086 - val_acc: 0.8300\n",
      "Epoch 22/30\n",
      "100/100 [==============================] - 0s 4ms/step - loss: 0.0940 - acc: 0.9765 - val_loss: 0.4095 - val_acc: 0.8290\n",
      "Epoch 23/30\n",
      "100/100 [==============================] - 0s 4ms/step - loss: 0.0871 - acc: 0.9840 - val_loss: 0.4218 - val_acc: 0.8280\n",
      "Epoch 24/30\n",
      "100/100 [==============================] - 0s 4ms/step - loss: 0.0877 - acc: 0.9785 - val_loss: 0.4141 - val_acc: 0.8310\n",
      "Epoch 25/30\n",
      "100/100 [==============================] - 0s 4ms/step - loss: 0.0817 - acc: 0.9810 - val_loss: 0.4211 - val_acc: 0.8250\n",
      "Epoch 26/30\n",
      "100/100 [==============================] - 0s 4ms/step - loss: 0.0722 - acc: 0.9835 - val_loss: 0.4358 - val_acc: 0.8220\n",
      "Epoch 27/30\n",
      "100/100 [==============================] - 0s 4ms/step - loss: 0.0665 - acc: 0.9870 - val_loss: 0.4276 - val_acc: 0.8280\n",
      "Epoch 28/30\n",
      "100/100 [==============================] - 0s 4ms/step - loss: 0.0631 - acc: 0.9880 - val_loss: 0.4329 - val_acc: 0.8250\n",
      "Epoch 29/30\n",
      "100/100 [==============================] - 0s 4ms/step - loss: 0.0588 - acc: 0.9910 - val_loss: 0.4379 - val_acc: 0.8310\n",
      "Epoch 30/30\n",
      "100/100 [==============================] - 0s 3ms/step - loss: 0.0555 - acc: 0.9910 - val_loss: 0.4385 - val_acc: 0.8290\n"
     ]
    }
   ],
   "source": [
    "model1 = models.Sequential()\n",
    "model1.add(layers.Dense(512, activation='relu', input_dim=4*4*512))\n",
    "model1.add(layers.Dropout(0.5))\n",
    "model1.add(layers.Dense(1, activation='sigmoid'))\n",
    "\n",
    "model1.compile(optimizer=optimizers.RMSprop(learning_rate=2e-5),\n",
    "              loss='binary_crossentropy',\n",
    "              metrics=['acc'])\n",
    "\n",
    "\n",
    "history1 = model1.fit(train_features, train_labels,\n",
    "                    epochs=30, \n",
    "                    batch_size=20, \n",
    "                    validation_data=(validation_features, validation_labels)\n",
    "                   )"
   ]
  },
  {
   "cell_type": "code",
   "execution_count": 14,
   "id": "0be915a8",
   "metadata": {
    "execution": {
     "iopub.execute_input": "2024-01-18T13:59:57.653916Z",
     "iopub.status.busy": "2024-01-18T13:59:57.653562Z",
     "iopub.status.idle": "2024-01-18T13:59:58.038504Z",
     "shell.execute_reply": "2024-01-18T13:59:58.037534Z"
    },
    "papermill": {
     "duration": 0.450819,
     "end_time": "2024-01-18T13:59:58.040797",
     "exception": false,
     "start_time": "2024-01-18T13:59:57.589978",
     "status": "completed"
    },
    "tags": []
   },
   "outputs": [
    {
     "data": {
      "image/png": "[encoded data removed]",
      "text/plain": [
       "<Figure size 900x600 with 1 Axes>"
      ]
     },
     "metadata": {},
     "output_type": "display_data"
    }
   ],
   "source": [
    "pd.DataFrame(history1.history).plot(figsize=(9, 6), linewidth=2)\n",
    "plt.xticks(range(0, 31, 2))\n",
    "plt.yticks(np.arange(0, 1.1, 0.1))\n",
    "plt.grid()\n",
    "plt.show()"
   ]
  },
  {
   "cell_type": "code",
   "execution_count": 15,
   "id": "949e270e",
   "metadata": {
    "execution": {
     "iopub.execute_input": "2024-01-18T13:59:58.295523Z",
     "iopub.status.busy": "2024-01-18T13:59:58.295161Z",
     "iopub.status.idle": "2024-01-18T13:59:58.389089Z",
     "shell.execute_reply": "2024-01-18T13:59:58.388060Z"
    },
    "papermill": {
     "duration": 0.160632,
     "end_time": "2024-01-18T13:59:58.391456",
     "exception": false,
     "start_time": "2024-01-18T13:59:58.230824",
     "status": "completed"
    },
    "tags": []
   },
   "outputs": [],
   "source": [
    "model2 = models.Sequential()\n",
    "model2.add(conv_base)\n",
    "model2.add(layers.Flatten())\n",
    "model2.add(layers.Dense(512, activation='relu'))\n",
    "model2.add(layers.Dense(1, activation='sigmoid'))"
   ]
  },
  {
   "cell_type": "code",
   "execution_count": 16,
   "id": "3faaa875",
   "metadata": {
    "execution": {
     "iopub.execute_input": "2024-01-18T13:59:58.521981Z",
     "iopub.status.busy": "2024-01-18T13:59:58.521607Z",
     "iopub.status.idle": "2024-01-18T13:59:58.543389Z",
     "shell.execute_reply": "2024-01-18T13:59:58.542437Z"
    },
    "papermill": {
     "duration": 0.091842,
     "end_time": "2024-01-18T13:59:58.547283",
     "exception": false,
     "start_time": "2024-01-18T13:59:58.455441",
     "status": "completed"
    },
    "tags": []
   },
   "outputs": [
    {
     "name": "stdout",
     "output_type": "stream",
     "text": [
      "Model: \"sequential_1\"\n",
      "_________________________________________________________________\n",
      " Layer (type)                Output Shape              Param #   \n",
      "=================================================================\n",
      " vgg16 (Functional)          (None, 4, 4, 512)         14714688  \n",
      "                                                                 \n",
      " flatten (Flatten)           (None, 8192)              0         \n",
      "                                                                 \n",
      " dense_2 (Dense)             (None, 512)               4194816   \n",
      "                                                                 \n",
      " dense_3 (Dense)             (None, 1)                 513       \n",
      "                                                                 \n",
      "=================================================================\n",
      "Total params: 18910017 (72.14 MB)\n",
      "Trainable params: 18910017 (72.14 MB)\n",
      "Non-trainable params: 0 (0.00 Byte)\n",
      "_________________________________________________________________\n"
     ]
    }
   ],
   "source": [
    "model2.summary()"
   ]
  },
  {
   "cell_type": "markdown",
   "id": "84ff0118",
   "metadata": {
    "papermill": {
     "duration": 0.065176,
     "end_time": "2024-01-18T13:59:58.676888",
     "exception": false,
     "start_time": "2024-01-18T13:59:58.611712",
     "status": "completed"
    },
    "tags": []
   },
   "source": [
    "#### Freeze conv_base"
   ]
  },
  {
   "cell_type": "code",
   "execution_count": 17,
   "id": "aa3c6ea3",
   "metadata": {
    "execution": {
     "iopub.execute_input": "2024-01-18T13:59:58.808324Z",
     "iopub.status.busy": "2024-01-18T13:59:58.807944Z",
     "iopub.status.idle": "2024-01-18T13:59:58.814474Z",
     "shell.execute_reply": "2024-01-18T13:59:58.813480Z"
    },
    "papermill": {
     "duration": 0.074307,
     "end_time": "2024-01-18T13:59:58.816495",
     "exception": false,
     "start_time": "2024-01-18T13:59:58.742188",
     "status": "completed"
    },
    "tags": []
   },
   "outputs": [
    {
     "name": "stdout",
     "output_type": "stream",
     "text": [
      "number of trainable weights before freezeing:  30\n",
      "number of trainable weights after freezeing:  4\n"
     ]
    }
   ],
   "source": [
    "print('number of trainable weights before freezeing: ', len(model2.trainable_weights))\n",
    "\n",
    "conv_base.trainable = False\n",
    "\n",
    "print('number of trainable weights after freezeing: ', len(model2.trainable_weights))"
   ]
  },
  {
   "cell_type": "code",
   "execution_count": 18,
   "id": "48848831",
   "metadata": {
    "execution": {
     "iopub.execute_input": "2024-01-18T13:59:58.951754Z",
     "iopub.status.busy": "2024-01-18T13:59:58.950895Z",
     "iopub.status.idle": "2024-01-18T13:59:59.049043Z",
     "shell.execute_reply": "2024-01-18T13:59:59.048230Z"
    },
    "papermill": {
     "duration": 0.169788,
     "end_time": "2024-01-18T13:59:59.051199",
     "exception": false,
     "start_time": "2024-01-18T13:59:58.881411",
     "status": "completed"
    },
    "tags": []
   },
   "outputs": [
    {
     "name": "stdout",
     "output_type": "stream",
     "text": [
      "Found 2000 images belonging to 2 classes.\n",
      "Found 1000 images belonging to 2 classes.\n"
     ]
    }
   ],
   "source": [
    "train_datagen = ImageDataGenerator(\n",
    "    rescale=1./255, \n",
    "    rotation_range=40,\n",
    "    width_shift_range=0.2,\n",
    "    height_shift_range=0.2,\n",
    "    shear_range=0.2,\n",
    "    zoom_range=0.2,\n",
    "    horizontal_flip=True,\n",
    "    fill_mode='nearest'\n",
    ")\n",
    "\n",
    "validation_datagen = ImageDataGenerator(rescale=1./255)\n",
    "\n",
    "train_generator = train_datagen.flow_from_directory(\n",
    "    train_dir, # target directory\n",
    "    target_size=(150, 150),\n",
    "    batch_size=20,\n",
    "    class_mode='binary'\n",
    ")\n",
    "validation_generator = validation_datagen.flow_from_directory(\n",
    "    validation_dir,\n",
    "    target_size=(150, 150),\n",
    "    batch_size=20,\n",
    "    class_mode='binary'\n",
    ")"
   ]
  },
  {
   "cell_type": "code",
   "execution_count": 19,
   "id": "73802638",
   "metadata": {
    "execution": {
     "iopub.execute_input": "2024-01-18T13:59:59.185726Z",
     "iopub.status.busy": "2024-01-18T13:59:59.184886Z",
     "iopub.status.idle": "2024-01-18T13:59:59.197002Z",
     "shell.execute_reply": "2024-01-18T13:59:59.196029Z"
    },
    "papermill": {
     "duration": 0.082101,
     "end_time": "2024-01-18T13:59:59.199251",
     "exception": false,
     "start_time": "2024-01-18T13:59:59.117150",
     "status": "completed"
    },
    "tags": []
   },
   "outputs": [],
   "source": [
    "# Compile\n",
    "model2.compile(optimizer=optimizers.RMSprop(learning_rate=2e-5), \n",
    "              loss='binary_crossentropy', \n",
    "              metrics=['acc']\n",
    "             )"
   ]
  },
  {
   "cell_type": "code",
   "execution_count": 20,
   "id": "30d07118",
   "metadata": {
    "execution": {
     "iopub.execute_input": "2024-01-18T13:59:59.332807Z",
     "iopub.status.busy": "2024-01-18T13:59:59.332428Z",
     "iopub.status.idle": "2024-01-18T14:07:00.176754Z",
     "shell.execute_reply": "2024-01-18T14:07:00.175632Z"
    },
    "papermill": {
     "duration": 420.913751,
     "end_time": "2024-01-18T14:07:00.179046",
     "exception": false,
     "start_time": "2024-01-18T13:59:59.265295",
     "status": "completed"
    },
    "tags": []
   },
   "outputs": [
    {
     "name": "stdout",
     "output_type": "stream",
     "text": [
      "Epoch 1/30\n",
      "100/100 [==============================] - 15s 140ms/step - loss: 0.6217 - acc: 0.6545 - val_loss: 0.4862 - val_acc: 0.7770\n",
      "Epoch 2/30\n",
      "100/100 [==============================] - 14s 140ms/step - loss: 0.5158 - acc: 0.7480 - val_loss: 0.4298 - val_acc: 0.7980\n",
      "Epoch 3/30\n",
      "100/100 [==============================] - 14s 140ms/step - loss: 0.4935 - acc: 0.7490 - val_loss: 0.4594 - val_acc: 0.7780\n",
      "Epoch 4/30\n",
      "100/100 [==============================] - 14s 141ms/step - loss: 0.4635 - acc: 0.7745 - val_loss: 0.4027 - val_acc: 0.8060\n",
      "Epoch 5/30\n",
      "100/100 [==============================] - 14s 139ms/step - loss: 0.4673 - acc: 0.7775 - val_loss: 0.4050 - val_acc: 0.8110\n",
      "Epoch 6/30\n",
      "100/100 [==============================] - 14s 141ms/step - loss: 0.4607 - acc: 0.7885 - val_loss: 0.3883 - val_acc: 0.8210\n",
      "Epoch 7/30\n",
      "100/100 [==============================] - 14s 138ms/step - loss: 0.4305 - acc: 0.8075 - val_loss: 0.3818 - val_acc: 0.8270\n",
      "Epoch 8/30\n",
      "100/100 [==============================] - 14s 141ms/step - loss: 0.4352 - acc: 0.8040 - val_loss: 0.3956 - val_acc: 0.8150\n",
      "Epoch 9/30\n",
      "100/100 [==============================] - 14s 138ms/step - loss: 0.4098 - acc: 0.8125 - val_loss: 0.3956 - val_acc: 0.8170\n",
      "Epoch 10/30\n",
      "100/100 [==============================] - 14s 140ms/step - loss: 0.4145 - acc: 0.8090 - val_loss: 0.3924 - val_acc: 0.8190\n",
      "Epoch 11/30\n",
      "100/100 [==============================] - 14s 139ms/step - loss: 0.4104 - acc: 0.8150 - val_loss: 0.3829 - val_acc: 0.8210\n",
      "Epoch 12/30\n",
      "100/100 [==============================] - 14s 139ms/step - loss: 0.4303 - acc: 0.7905 - val_loss: 0.3805 - val_acc: 0.8130\n",
      "Epoch 13/30\n",
      "100/100 [==============================] - 14s 140ms/step - loss: 0.4089 - acc: 0.8150 - val_loss: 0.3918 - val_acc: 0.8190\n",
      "Epoch 14/30\n",
      "100/100 [==============================] - 14s 139ms/step - loss: 0.4028 - acc: 0.8280 - val_loss: 0.3806 - val_acc: 0.8240\n",
      "Epoch 15/30\n",
      "100/100 [==============================] - 14s 139ms/step - loss: 0.3951 - acc: 0.8205 - val_loss: 0.3734 - val_acc: 0.8280\n",
      "Epoch 16/30\n",
      "100/100 [==============================] - 14s 138ms/step - loss: 0.3975 - acc: 0.8170 - val_loss: 0.4177 - val_acc: 0.8140\n",
      "Epoch 17/30\n",
      "100/100 [==============================] - 14s 140ms/step - loss: 0.4033 - acc: 0.8175 - val_loss: 0.3764 - val_acc: 0.8220\n",
      "Epoch 18/30\n",
      "100/100 [==============================] - 14s 139ms/step - loss: 0.4035 - acc: 0.8150 - val_loss: 0.3714 - val_acc: 0.8280\n",
      "Epoch 19/30\n",
      "100/100 [==============================] - 14s 140ms/step - loss: 0.3948 - acc: 0.8275 - val_loss: 0.3999 - val_acc: 0.8190\n",
      "Epoch 20/30\n",
      "100/100 [==============================] - 14s 140ms/step - loss: 0.3961 - acc: 0.8210 - val_loss: 0.3930 - val_acc: 0.8220\n",
      "Epoch 21/30\n",
      "100/100 [==============================] - 14s 138ms/step - loss: 0.3741 - acc: 0.8355 - val_loss: 0.3982 - val_acc: 0.8190\n",
      "Epoch 22/30\n",
      "100/100 [==============================] - 14s 140ms/step - loss: 0.3969 - acc: 0.8210 - val_loss: 0.4053 - val_acc: 0.8220\n",
      "Epoch 23/30\n",
      "100/100 [==============================] - 14s 139ms/step - loss: 0.3805 - acc: 0.8190 - val_loss: 0.3991 - val_acc: 0.8260\n",
      "Epoch 24/30\n",
      "100/100 [==============================] - 14s 141ms/step - loss: 0.4012 - acc: 0.8155 - val_loss: 0.3664 - val_acc: 0.8250\n",
      "Epoch 25/30\n",
      "100/100 [==============================] - 14s 138ms/step - loss: 0.3771 - acc: 0.8365 - val_loss: 0.3977 - val_acc: 0.8240\n",
      "Epoch 26/30\n",
      "100/100 [==============================] - 14s 140ms/step - loss: 0.3698 - acc: 0.8325 - val_loss: 0.3611 - val_acc: 0.8320\n",
      "Epoch 27/30\n",
      "100/100 [==============================] - 14s 139ms/step - loss: 0.3844 - acc: 0.8265 - val_loss: 0.3726 - val_acc: 0.8330\n",
      "Epoch 28/30\n",
      "100/100 [==============================] - 14s 138ms/step - loss: 0.3804 - acc: 0.8305 - val_loss: 0.3617 - val_acc: 0.8440\n",
      "Epoch 29/30\n",
      "100/100 [==============================] - 14s 141ms/step - loss: 0.3573 - acc: 0.8385 - val_loss: 0.3661 - val_acc: 0.8380\n",
      "Epoch 30/30\n",
      "100/100 [==============================] - 14s 140ms/step - loss: 0.3662 - acc: 0.8275 - val_loss: 0.3696 - val_acc: 0.8350\n"
     ]
    }
   ],
   "source": [
    "history2 = model2.fit(\n",
    "    train_generator,\n",
    "    steps_per_epoch=100,\n",
    "    epochs=30,\n",
    "    validation_data=validation_generator,\n",
    "    validation_steps=50\n",
    ")"
   ]
  },
  {
   "cell_type": "code",
   "execution_count": 21,
   "id": "e82f2f21",
   "metadata": {
    "execution": {
     "iopub.execute_input": "2024-01-18T14:07:00.810352Z",
     "iopub.status.busy": "2024-01-18T14:07:00.809473Z",
     "iopub.status.idle": "2024-01-18T14:07:01.108277Z",
     "shell.execute_reply": "2024-01-18T14:07:01.107122Z"
    },
    "papermill": {
     "duration": 0.615037,
     "end_time": "2024-01-18T14:07:01.110463",
     "exception": false,
     "start_time": "2024-01-18T14:07:00.495426",
     "status": "completed"
    },
    "tags": []
   },
   "outputs": [
    {
     "data": {
      "image/png": "[encoded data removed]",
      "text/plain": [
       "<Figure size 900x600 with 1 Axes>"
      ]
     },
     "metadata": {},
     "output_type": "display_data"
    }
   ],
   "source": [
    "pd.DataFrame(history2.history).plot(figsize=(9, 6), linewidth=2)\n",
    "plt.xticks(range(0, 31, 2))\n",
    "plt.yticks(np.arange(0, 1.1, 0.1))\n",
    "plt.grid()\n",
    "plt.show()"
   ]
  },
  {
   "cell_type": "code",
   "execution_count": 22,
   "id": "5548a1a5",
   "metadata": {
    "execution": {
     "iopub.execute_input": "2024-01-18T14:07:02.354806Z",
     "iopub.status.busy": "2024-01-18T14:07:02.353948Z",
     "iopub.status.idle": "2024-01-18T14:07:02.451730Z",
     "shell.execute_reply": "2024-01-18T14:07:02.450849Z"
    },
    "papermill": {
     "duration": 0.408927,
     "end_time": "2024-01-18T14:07:02.453966",
     "exception": false,
     "start_time": "2024-01-18T14:07:02.045039",
     "status": "completed"
    },
    "tags": []
   },
   "outputs": [],
   "source": [
    "model3 = models.Sequential()\n",
    "model3.add(conv_base)\n",
    "model3.add(layers.Flatten())\n",
    "model3.add(layers.Dense(512, activation='relu'))\n",
    "model3.add(layers.Dense(1, activation='sigmoid'))"
   ]
  },
  {
   "cell_type": "code",
   "execution_count": 23,
   "id": "83150f97",
   "metadata": {
    "execution": {
     "iopub.execute_input": "2024-01-18T14:07:03.124398Z",
     "iopub.status.busy": "2024-01-18T14:07:03.124000Z",
     "iopub.status.idle": "2024-01-18T14:07:03.129484Z",
     "shell.execute_reply": "2024-01-18T14:07:03.128335Z"
    },
    "papermill": {
     "duration": 0.368899,
     "end_time": "2024-01-18T14:07:03.131675",
     "exception": false,
     "start_time": "2024-01-18T14:07:02.762776",
     "status": "completed"
    },
    "tags": []
   },
   "outputs": [
    {
     "name": "stdout",
     "output_type": "stream",
     "text": [
      "input_1\n",
      "block1_conv1\n",
      "block1_conv2\n",
      "block1_pool\n",
      "block2_conv1\n",
      "block2_conv2\n",
      "block2_pool\n",
      "block3_conv1\n",
      "block3_conv2\n",
      "block3_conv3\n",
      "block3_pool\n",
      "block4_conv1\n",
      "block4_conv2\n",
      "block4_conv3\n",
      "block4_pool\n",
      "block5_conv1\n",
      "block5_conv2\n",
      "block5_conv3\n",
      "block5_pool\n"
     ]
    }
   ],
   "source": [
    "for layer in conv_base.layers :\n",
    "    print(layer.name)"
   ]
  },
  {
   "cell_type": "code",
   "execution_count": 24,
   "id": "742033bb",
   "metadata": {
    "execution": {
     "iopub.execute_input": "2024-01-18T14:07:03.749056Z",
     "iopub.status.busy": "2024-01-18T14:07:03.748206Z",
     "iopub.status.idle": "2024-01-18T14:07:03.755148Z",
     "shell.execute_reply": "2024-01-18T14:07:03.754289Z"
    },
    "papermill": {
     "duration": 0.319873,
     "end_time": "2024-01-18T14:07:03.756960",
     "exception": false,
     "start_time": "2024-01-18T14:07:03.437087",
     "status": "completed"
    },
    "tags": []
   },
   "outputs": [],
   "source": [
    "conv_base.trainable = True\n",
    "set_trainable = False\n",
    "\n",
    "for layer in conv_base.layers :\n",
    "    if layer.name == 'block5_conv1' :\n",
    "        set_trainable = True\n",
    "    if set_trainable :\n",
    "        layer.trainable = True\n",
    "    else :\n",
    "        layer.trainable = False"
   ]
  },
  {
   "cell_type": "code",
   "execution_count": 25,
   "id": "2760777d",
   "metadata": {
    "execution": {
     "iopub.execute_input": "2024-01-18T14:07:04.379164Z",
     "iopub.status.busy": "2024-01-18T14:07:04.378778Z",
     "iopub.status.idle": "2024-01-18T14:14:07.377374Z",
     "shell.execute_reply": "2024-01-18T14:14:07.376416Z"
    },
    "papermill": {
     "duration": 423.313596,
     "end_time": "2024-01-18T14:14:07.379793",
     "exception": false,
     "start_time": "2024-01-18T14:07:04.066197",
     "status": "completed"
    },
    "tags": []
   },
   "outputs": [
    {
     "name": "stdout",
     "output_type": "stream",
     "text": [
      "Epoch 1/30\n",
      "100/100 [==============================] - 16s 142ms/step - loss: 0.6152 - acc: 0.6530 - val_loss: 0.4734 - val_acc: 0.7560\n",
      "Epoch 2/30\n",
      "100/100 [==============================] - 14s 139ms/step - loss: 0.4972 - acc: 0.7650 - val_loss: 0.4042 - val_acc: 0.8100\n",
      "Epoch 3/30\n",
      "100/100 [==============================] - 14s 140ms/step - loss: 0.4315 - acc: 0.8005 - val_loss: 0.3583 - val_acc: 0.8380\n",
      "Epoch 4/30\n",
      "100/100 [==============================] - 14s 141ms/step - loss: 0.4121 - acc: 0.8085 - val_loss: 0.3544 - val_acc: 0.8420\n",
      "Epoch 5/30\n",
      "100/100 [==============================] - 14s 140ms/step - loss: 0.3788 - acc: 0.8225 - val_loss: 0.3397 - val_acc: 0.8530\n",
      "Epoch 6/30\n",
      "100/100 [==============================] - 14s 139ms/step - loss: 0.3585 - acc: 0.8375 - val_loss: 0.3479 - val_acc: 0.8460\n",
      "Epoch 7/30\n",
      "100/100 [==============================] - 14s 139ms/step - loss: 0.3350 - acc: 0.8520 - val_loss: 0.3184 - val_acc: 0.8610\n",
      "Epoch 8/30\n",
      "100/100 [==============================] - 14s 139ms/step - loss: 0.3194 - acc: 0.8640 - val_loss: 0.3325 - val_acc: 0.8630\n",
      "Epoch 9/30\n",
      "100/100 [==============================] - 14s 139ms/step - loss: 0.3212 - acc: 0.8625 - val_loss: 0.3217 - val_acc: 0.8760\n",
      "Epoch 10/30\n",
      "100/100 [==============================] - 14s 139ms/step - loss: 0.2860 - acc: 0.8735 - val_loss: 0.3085 - val_acc: 0.8700\n",
      "Epoch 11/30\n",
      "100/100 [==============================] - 14s 140ms/step - loss: 0.2926 - acc: 0.8725 - val_loss: 0.3136 - val_acc: 0.8780\n",
      "Epoch 12/30\n",
      "100/100 [==============================] - 14s 140ms/step - loss: 0.2653 - acc: 0.8920 - val_loss: 0.2999 - val_acc: 0.8850\n",
      "Epoch 13/30\n",
      "100/100 [==============================] - 14s 141ms/step - loss: 0.2752 - acc: 0.8785 - val_loss: 0.3885 - val_acc: 0.8540\n",
      "Epoch 14/30\n",
      "100/100 [==============================] - 14s 143ms/step - loss: 0.2642 - acc: 0.8855 - val_loss: 0.2909 - val_acc: 0.8930\n",
      "Epoch 15/30\n",
      "100/100 [==============================] - 14s 138ms/step - loss: 0.2485 - acc: 0.8955 - val_loss: 0.3871 - val_acc: 0.8630\n",
      "Epoch 16/30\n",
      "100/100 [==============================] - 14s 141ms/step - loss: 0.2623 - acc: 0.8945 - val_loss: 0.2926 - val_acc: 0.8840\n",
      "Epoch 17/30\n",
      "100/100 [==============================] - 14s 139ms/step - loss: 0.2434 - acc: 0.9010 - val_loss: 0.3118 - val_acc: 0.8850\n",
      "Epoch 18/30\n",
      "100/100 [==============================] - 14s 141ms/step - loss: 0.2320 - acc: 0.9035 - val_loss: 0.2849 - val_acc: 0.8800\n",
      "Epoch 19/30\n",
      "100/100 [==============================] - 14s 138ms/step - loss: 0.2200 - acc: 0.9060 - val_loss: 0.2882 - val_acc: 0.8850\n",
      "Epoch 20/30\n",
      "100/100 [==============================] - 14s 140ms/step - loss: 0.2179 - acc: 0.9090 - val_loss: 0.3927 - val_acc: 0.8690\n",
      "Epoch 21/30\n",
      "100/100 [==============================] - 14s 140ms/step - loss: 0.1973 - acc: 0.9175 - val_loss: 0.2975 - val_acc: 0.8940\n",
      "Epoch 22/30\n",
      "100/100 [==============================] - 14s 139ms/step - loss: 0.1946 - acc: 0.9135 - val_loss: 0.3517 - val_acc: 0.8780\n",
      "Epoch 23/30\n",
      "100/100 [==============================] - 14s 140ms/step - loss: 0.1928 - acc: 0.9185 - val_loss: 0.3039 - val_acc: 0.8880\n",
      "Epoch 24/30\n",
      "100/100 [==============================] - 14s 139ms/step - loss: 0.1826 - acc: 0.9300 - val_loss: 0.3669 - val_acc: 0.8820\n",
      "Epoch 25/30\n",
      "100/100 [==============================] - 14s 139ms/step - loss: 0.2025 - acc: 0.9125 - val_loss: 0.3024 - val_acc: 0.8970\n",
      "Epoch 26/30\n",
      "100/100 [==============================] - 14s 138ms/step - loss: 0.1920 - acc: 0.9275 - val_loss: 0.3037 - val_acc: 0.8860\n",
      "Epoch 27/30\n",
      "100/100 [==============================] - 14s 140ms/step - loss: 0.1777 - acc: 0.9335 - val_loss: 0.3062 - val_acc: 0.8940\n",
      "Epoch 28/30\n",
      "100/100 [==============================] - 14s 139ms/step - loss: 0.1657 - acc: 0.9340 - val_loss: 0.3183 - val_acc: 0.8930\n",
      "Epoch 29/30\n",
      "100/100 [==============================] - 14s 140ms/step - loss: 0.1734 - acc: 0.9305 - val_loss: 0.3373 - val_acc: 0.8850\n",
      "Epoch 30/30\n",
      "100/100 [==============================] - 14s 141ms/step - loss: 0.1625 - acc: 0.9345 - val_loss: 0.3135 - val_acc: 0.8930\n"
     ]
    }
   ],
   "source": [
    "# Compile\n",
    "model3.compile(optimizer=optimizers.RMSprop(learning_rate=1e-5), \n",
    "              loss='binary_crossentropy', \n",
    "              metrics=['acc']\n",
    "             )\n",
    "\n",
    "history3 = model3.fit(\n",
    "    train_generator,\n",
    "    steps_per_epoch=100,\n",
    "    epochs=30,\n",
    "    validation_data=validation_generator,\n",
    "    validation_steps=50\n",
    ")"
   ]
  },
  {
   "cell_type": "code",
   "execution_count": 26,
   "id": "7809ca25",
   "metadata": {
    "execution": {
     "iopub.execute_input": "2024-01-18T14:14:08.531435Z",
     "iopub.status.busy": "2024-01-18T14:14:08.531046Z",
     "iopub.status.idle": "2024-01-18T14:14:08.864521Z",
     "shell.execute_reply": "2024-01-18T14:14:08.863488Z"
    },
    "papermill": {
     "duration": 0.923452,
     "end_time": "2024-01-18T14:14:08.867077",
     "exception": false,
     "start_time": "2024-01-18T14:14:07.943625",
     "status": "completed"
    },
    "tags": []
   },
   "outputs": [
    {
     "data": {
      "image/png": "[encoded data removed]",
      "text/plain": [
       "<Figure size 900x600 with 1 Axes>"
      ]
     },
     "metadata": {},
     "output_type": "display_data"
    }
   ],
   "source": [
    "pd.DataFrame(history3.history).plot(figsize=(9, 6), linewidth=2)\n",
    "plt.yticks(np.arange(0, 1.1, 0.1))\n",
    "plt.grid()\n",
    "plt.show()"
   ]
  },
  {
   "cell_type": "code",
   "execution_count": 27,
   "id": "4e928434",
   "metadata": {
    "execution": {
     "iopub.execute_input": "2024-01-18T14:14:10.043207Z",
     "iopub.status.busy": "2024-01-18T14:14:10.042439Z",
     "iopub.status.idle": "2024-01-18T14:14:11.741115Z",
     "shell.execute_reply": "2024-01-18T14:14:11.740134Z"
    },
    "papermill": {
     "duration": 2.258631,
     "end_time": "2024-01-18T14:14:11.743156",
     "exception": false,
     "start_time": "2024-01-18T14:14:09.484525",
     "status": "completed"
    },
    "tags": []
   },
   "outputs": [
    {
     "name": "stdout",
     "output_type": "stream",
     "text": [
      "Found 1000 images belonging to 2 classes.\n",
      "50/50 [==============================] - 2s 31ms/step - loss: 0.3635 - acc: 0.8790\n",
      "test acc :  0.3635416328907013\n",
      "test loss :  0.8790000081062317\n"
     ]
    }
   ],
   "source": [
    "test_datagen = ImageDataGenerator(rescale=1./255)\n",
    "test_generator = test_datagen.flow_from_directory(\n",
    "    test_dir,\n",
    "    target_size=(150, 150),\n",
    "    batch_size=20,\n",
    "    class_mode='binary'\n",
    ")\n",
    "\n",
    "test_loss, test_acc = model3.evaluate(test_generator, steps=50)\n",
    "print('test acc : ', test_loss)\n",
    "print('test loss : ', test_acc)"
   ]
  },
  {
   "cell_type": "code",
   "execution_count": 28,
   "id": "1281664d",
   "metadata": {
    "execution": {
     "iopub.execute_input": "2024-01-18T14:14:14.112142Z",
     "iopub.status.busy": "2024-01-18T14:14:14.111245Z",
     "iopub.status.idle": "2024-01-18T14:14:14.208434Z",
     "shell.execute_reply": "2024-01-18T14:14:14.207600Z"
    },
    "papermill": {
     "duration": 0.72397,
     "end_time": "2024-01-18T14:14:14.210665",
     "exception": false,
     "start_time": "2024-01-18T14:14:13.486695",
     "status": "completed"
    },
    "tags": []
   },
   "outputs": [],
   "source": [
    "model4 = models.Sequential()\n",
    "model4.add(conv_base)\n",
    "model4.add(layers.Flatten())\n",
    "model4.add(layers.Dense(512, activation='elu'))\n",
    "model4.add(layers.Dense(1, activation='sigmoid'))"
   ]
  },
  {
   "cell_type": "code",
   "execution_count": 29,
   "id": "02461920",
   "metadata": {
    "execution": {
     "iopub.execute_input": "2024-01-18T14:14:15.318933Z",
     "iopub.status.busy": "2024-01-18T14:14:15.318535Z",
     "iopub.status.idle": "2024-01-18T14:14:15.325470Z",
     "shell.execute_reply": "2024-01-18T14:14:15.324555Z"
    },
    "papermill": {
     "duration": 0.566918,
     "end_time": "2024-01-18T14:14:15.327430",
     "exception": false,
     "start_time": "2024-01-18T14:14:14.760512",
     "status": "completed"
    },
    "tags": []
   },
   "outputs": [],
   "source": [
    "conv_base.trainable = True\n",
    "set_trainable = False\n",
    "\n",
    "for layer in conv_base.layers :\n",
    "    if layer.name == 'block5_conv1' :\n",
    "        set_trainable = True\n",
    "    if set_trainable :\n",
    "        layer.trainable = True\n",
    "    else :\n",
    "        layer.trainable = False"
   ]
  },
  {
   "cell_type": "code",
   "execution_count": 30,
   "id": "c7f13eb2",
   "metadata": {
    "execution": {
     "iopub.execute_input": "2024-01-18T14:14:16.509488Z",
     "iopub.status.busy": "2024-01-18T14:14:16.508731Z",
     "iopub.status.idle": "2024-01-18T14:21:11.887873Z",
     "shell.execute_reply": "2024-01-18T14:21:11.886788Z"
    },
    "papermill": {
     "duration": 415.993187,
     "end_time": "2024-01-18T14:21:11.889924",
     "exception": false,
     "start_time": "2024-01-18T14:14:15.896737",
     "status": "completed"
    },
    "tags": []
   },
   "outputs": [
    {
     "name": "stdout",
     "output_type": "stream",
     "text": [
      "Epoch 1/30\n",
      "100/100 [==============================] - 14s 141ms/step - loss: 0.1523 - acc: 0.9375 - val_loss: 0.3613 - val_acc: 0.8840\n",
      "Epoch 2/30\n",
      "100/100 [==============================] - 14s 138ms/step - loss: 0.1522 - acc: 0.9390 - val_loss: 0.4557 - val_acc: 0.8690\n",
      "Epoch 3/30\n",
      "100/100 [==============================] - 14s 139ms/step - loss: 0.1417 - acc: 0.9435 - val_loss: 0.3192 - val_acc: 0.8950\n",
      "Epoch 4/30\n",
      "100/100 [==============================] - 14s 142ms/step - loss: 0.1325 - acc: 0.9460 - val_loss: 0.3179 - val_acc: 0.8870\n",
      "Epoch 5/30\n",
      "100/100 [==============================] - 14s 140ms/step - loss: 0.1398 - acc: 0.9420 - val_loss: 0.3312 - val_acc: 0.8910\n",
      "Epoch 6/30\n",
      "100/100 [==============================] - 14s 140ms/step - loss: 0.1405 - acc: 0.9500 - val_loss: 0.3231 - val_acc: 0.8960\n",
      "Epoch 7/30\n",
      "100/100 [==============================] - 14s 140ms/step - loss: 0.1448 - acc: 0.9390 - val_loss: 0.3894 - val_acc: 0.8870\n",
      "Epoch 8/30\n",
      "100/100 [==============================] - 14s 140ms/step - loss: 0.1412 - acc: 0.9520 - val_loss: 0.3282 - val_acc: 0.9030\n",
      "Epoch 9/30\n",
      "100/100 [==============================] - 14s 139ms/step - loss: 0.1369 - acc: 0.9455 - val_loss: 0.3271 - val_acc: 0.9030\n",
      "Epoch 10/30\n",
      "100/100 [==============================] - 14s 141ms/step - loss: 0.1270 - acc: 0.9510 - val_loss: 0.4591 - val_acc: 0.8860\n",
      "Epoch 11/30\n",
      "100/100 [==============================] - 14s 138ms/step - loss: 0.1185 - acc: 0.9560 - val_loss: 0.3552 - val_acc: 0.9030\n",
      "Epoch 12/30\n",
      "100/100 [==============================] - 14s 139ms/step - loss: 0.1133 - acc: 0.9550 - val_loss: 0.3663 - val_acc: 0.8910\n",
      "Epoch 13/30\n",
      "100/100 [==============================] - 14s 140ms/step - loss: 0.1202 - acc: 0.9535 - val_loss: 0.3857 - val_acc: 0.8860\n",
      "Epoch 14/30\n",
      "100/100 [==============================] - 14s 139ms/step - loss: 0.1153 - acc: 0.9530 - val_loss: 0.3551 - val_acc: 0.8940\n",
      "Epoch 15/30\n",
      "100/100 [==============================] - 14s 142ms/step - loss: 0.1189 - acc: 0.9505 - val_loss: 0.3397 - val_acc: 0.8980\n",
      "Epoch 16/30\n",
      "100/100 [==============================] - 14s 138ms/step - loss: 0.1132 - acc: 0.9575 - val_loss: 0.3821 - val_acc: 0.8940\n",
      "Epoch 17/30\n",
      "100/100 [==============================] - 14s 137ms/step - loss: 0.1114 - acc: 0.9560 - val_loss: 0.4341 - val_acc: 0.8880\n",
      "Epoch 18/30\n",
      "100/100 [==============================] - 14s 136ms/step - loss: 0.1111 - acc: 0.9605 - val_loss: 0.4398 - val_acc: 0.8910\n",
      "Epoch 19/30\n",
      "100/100 [==============================] - 14s 136ms/step - loss: 0.0937 - acc: 0.9620 - val_loss: 0.5200 - val_acc: 0.8790\n",
      "Epoch 20/30\n",
      "100/100 [==============================] - 14s 137ms/step - loss: 0.0879 - acc: 0.9675 - val_loss: 0.6544 - val_acc: 0.8580\n",
      "Epoch 21/30\n",
      "100/100 [==============================] - 14s 137ms/step - loss: 0.0925 - acc: 0.9615 - val_loss: 0.3896 - val_acc: 0.8980\n",
      "Epoch 22/30\n",
      "100/100 [==============================] - 14s 138ms/step - loss: 0.0984 - acc: 0.9590 - val_loss: 0.3804 - val_acc: 0.8980\n",
      "Epoch 23/30\n",
      "100/100 [==============================] - 14s 136ms/step - loss: 0.0903 - acc: 0.9665 - val_loss: 0.4055 - val_acc: 0.8990\n",
      "Epoch 24/30\n",
      "100/100 [==============================] - 14s 138ms/step - loss: 0.0855 - acc: 0.9685 - val_loss: 0.4720 - val_acc: 0.8910\n",
      "Epoch 25/30\n",
      "100/100 [==============================] - 13s 134ms/step - loss: 0.1005 - acc: 0.9595 - val_loss: 0.3730 - val_acc: 0.9050\n",
      "Epoch 26/30\n",
      "100/100 [==============================] - 14s 137ms/step - loss: 0.0795 - acc: 0.9705 - val_loss: 0.4442 - val_acc: 0.8900\n",
      "Epoch 27/30\n",
      "100/100 [==============================] - 13s 134ms/step - loss: 0.0889 - acc: 0.9625 - val_loss: 0.3834 - val_acc: 0.8970\n",
      "Epoch 28/30\n",
      "100/100 [==============================] - 13s 134ms/step - loss: 0.0717 - acc: 0.9755 - val_loss: 0.4225 - val_acc: 0.8910\n",
      "Epoch 29/30\n",
      "100/100 [==============================] - 14s 136ms/step - loss: 0.0881 - acc: 0.9660 - val_loss: 0.6051 - val_acc: 0.8690\n",
      "Epoch 30/30\n",
      "100/100 [==============================] - 13s 134ms/step - loss: 0.0901 - acc: 0.9685 - val_loss: 0.4454 - val_acc: 0.8960\n"
     ]
    }
   ],
   "source": [
    "# Compile\n",
    "model4.compile(optimizer=optimizers.RMSprop(learning_rate=1e-5), \n",
    "              loss='binary_crossentropy', \n",
    "              metrics=['acc']\n",
    "             )\n",
    "\n",
    "history4 = model3.fit(\n",
    "    train_generator,\n",
    "    steps_per_epoch=100,\n",
    "    epochs=30,\n",
    "    validation_data=validation_generator,\n",
    "    validation_steps=50\n",
    ")"
   ]
  },
  {
   "cell_type": "code",
   "execution_count": 31,
   "id": "65dc96bd",
   "metadata": {
    "execution": {
     "iopub.execute_input": "2024-01-18T14:21:13.540541Z",
     "iopub.status.busy": "2024-01-18T14:21:13.539854Z",
     "iopub.status.idle": "2024-01-18T14:21:13.833613Z",
     "shell.execute_reply": "2024-01-18T14:21:13.832584Z"
    },
    "papermill": {
     "duration": 1.147285,
     "end_time": "2024-01-18T14:21:13.836279",
     "exception": false,
     "start_time": "2024-01-18T14:21:12.688994",
     "status": "completed"
    },
    "tags": []
   },
   "outputs": [
    {
     "data": {
      "image/png": "[encoded data removed]",
      "text/plain": [
       "<Figure size 900x600 with 1 Axes>"
      ]
     },
     "metadata": {},
     "output_type": "display_data"
    }
   ],
   "source": [
    "pd.DataFrame(history4.history).plot(figsize=(9, 6), linewidth=2)\n",
    "plt.yticks(np.arange(0, 1.1, 0.1))\n",
    "plt.xticks(range(0, 30, 2))\n",
    "plt.grid()\n",
    "plt.show()"
   ]
  },
  {
   "cell_type": "markdown",
   "id": "eb5e01ad",
   "metadata": {
    "papermill": {
     "duration": 0.851691,
     "end_time": "2024-01-18T14:21:15.497309",
     "exception": false,
     "start_time": "2024-01-18T14:21:14.645618",
     "status": "completed"
    },
    "tags": []
   },
   "source": [
    "Base on above plot, we can reach best performance with 5 epoch"
   ]
  },
  {
   "cell_type": "code",
   "execution_count": 32,
   "id": "26de58e6",
   "metadata": {
    "execution": {
     "iopub.execute_input": "2024-01-18T14:21:17.114871Z",
     "iopub.status.busy": "2024-01-18T14:21:17.114049Z",
     "iopub.status.idle": "2024-01-18T14:21:18.827423Z",
     "shell.execute_reply": "2024-01-18T14:21:18.825224Z"
    },
    "papermill": {
     "duration": 2.513665,
     "end_time": "2024-01-18T14:21:18.829586",
     "exception": false,
     "start_time": "2024-01-18T14:21:16.315921",
     "status": "completed"
    },
    "tags": []
   },
   "outputs": [
    {
     "name": "stdout",
     "output_type": "stream",
     "text": [
      "50/50 [==============================] - 2s 32ms/step - loss: 0.5502 - acc: 0.8700\n",
      "test acc :  0.5502234697341919\n",
      "test loss :  0.8700000047683716\n"
     ]
    }
   ],
   "source": [
    "test_loss, test_acc = model3.evaluate(test_generator, steps=50)\n",
    "print('test acc : ', test_loss)\n",
    "print('test loss : ', test_acc)"
   ]
  }
 ],
 "metadata": {
  "kaggle": {
   "accelerator": "none",
   "dataSources": [
    {
     "datasetId": 6156,
     "sourceId": 9058,
     "sourceType": "datasetVersion"
    }
   ],
   "dockerImageVersionId": 30635,
   "isGpuEnabled": false,
   "isInternetEnabled": true,
   "language": "python",
   "sourceType": "notebook"
  },
  "kernelspec": {
   "display_name": "Python 3 (ipykernel)",
   "language": "python",
   "name": "python3"
  },
  "language_info": {
   "codemirror_mode": {
    "name": "ipython",
    "version": 3
   },
   "file_extension": ".py",
   "mimetype": "text/x-python",
   "name": "python",
   "nbconvert_exporter": "python",
   "pygments_lexer": "ipython3",
   "version": "3.11.0"
  },
  "papermill": {
   "default_parameters": {},
   "duration": 1398.623636,
   "end_time": "2024-01-18T14:21:25.943635",
   "environment_variables": {},
   "exception": null,
   "input_path": "__notebook__.ipynb",
   "output_path": "__notebook__.ipynb",
   "parameters": {},
   "start_time": "2024-01-18T13:58:07.319999",
   "version": "2.4.0"
  }
 },
 "nbformat": 4,
 "nbformat_minor": 5
}
